{
 "cells": [
  {
   "cell_type": "code",
   "execution_count": 31,
   "metadata": {},
   "outputs": [],
   "source": [
    "%matplotlib inline\n",
    "import numpy as np\n",
    "import pandas as pd\n",
    "import matplotlib.pyplot as plt\n",
    "import scipy.stats as stats\n",
    "from statsmodels.tsa.seasonal import seasonal_decompose\n",
    "from statsmodels.tsa.arima.model import ARIMA\n"
   ]
  },
  {
   "attachments": {},
   "cell_type": "markdown",
   "metadata": {},
   "source": [
    "Ejercicio 1: Cargar los datos"
   ]
  },
  {
   "cell_type": "code",
   "execution_count": 3,
   "metadata": {},
   "outputs": [],
   "source": [
    "data_url = \"https://raw.githubusercontent.com/MinCiencia/Datos-COVID19/master/output/producto10/FallecidosEtario.csv\"\n",
    "df = pd.read_csv(data_url)"
   ]
  },
  {
   "attachments": {},
   "cell_type": "markdown",
   "metadata": {},
   "source": [
    "Ejercicio 2: Inspeccionar los datos"
   ]
  },
  {
   "cell_type": "code",
   "execution_count": 35,
   "metadata": {},
   "outputs": [
    {
     "name": "stdout",
     "output_type": "stream",
     "text": [
      "<class 'pandas.core.frame.DataFrame'>\n",
      "RangeIndex: 7 entries, 0 to 6\n",
      "Columns: 1179 entries, Grupo de edad to 2023-06-30\n",
      "dtypes: int64(1178), object(1)\n",
      "memory usage: 64.6+ KB\n"
     ]
    }
   ],
   "source": [
    "df.head()\n",
    "df.info()"
   ]
  },
  {
   "attachments": {},
   "cell_type": "markdown",
   "metadata": {},
   "source": [
    "Ejercicio 3: Manejar valores faltantes"
   ]
  },
  {
   "cell_type": "code",
   "execution_count": 9,
   "metadata": {},
   "outputs": [
    {
     "data": {
      "text/html": [
       "<div>\n",
       "<style scoped>\n",
       "    .dataframe tbody tr th:only-of-type {\n",
       "        vertical-align: middle;\n",
       "    }\n",
       "\n",
       "    .dataframe tbody tr th {\n",
       "        vertical-align: top;\n",
       "    }\n",
       "\n",
       "    .dataframe thead th {\n",
       "        text-align: right;\n",
       "    }\n",
       "</style>\n",
       "<table border=\"1\" class=\"dataframe\">\n",
       "  <thead>\n",
       "    <tr style=\"text-align: right;\">\n",
       "      <th></th>\n",
       "      <th>Grupo de edad</th>\n",
       "      <th>2020-04-09</th>\n",
       "      <th>2020-04-10</th>\n",
       "      <th>2020-04-11</th>\n",
       "      <th>2020-04-12</th>\n",
       "      <th>2020-04-13</th>\n",
       "      <th>2020-04-14</th>\n",
       "      <th>2020-04-15</th>\n",
       "      <th>2020-04-16</th>\n",
       "      <th>2020-04-17</th>\n",
       "      <th>...</th>\n",
       "      <th>2023-06-21</th>\n",
       "      <th>2023-06-22</th>\n",
       "      <th>2023-06-23</th>\n",
       "      <th>2023-06-24</th>\n",
       "      <th>2023-06-25</th>\n",
       "      <th>2023-06-26</th>\n",
       "      <th>2023-06-27</th>\n",
       "      <th>2023-06-28</th>\n",
       "      <th>2023-06-29</th>\n",
       "      <th>2023-06-30</th>\n",
       "    </tr>\n",
       "  </thead>\n",
       "  <tbody>\n",
       "    <tr>\n",
       "      <th>0</th>\n",
       "      <td>&lt;=39</td>\n",
       "      <td>2</td>\n",
       "      <td>2</td>\n",
       "      <td>3</td>\n",
       "      <td>3</td>\n",
       "      <td>3</td>\n",
       "      <td>3</td>\n",
       "      <td>3</td>\n",
       "      <td>3</td>\n",
       "      <td>4</td>\n",
       "      <td>...</td>\n",
       "      <td>1331</td>\n",
       "      <td>1331</td>\n",
       "      <td>1331</td>\n",
       "      <td>1331</td>\n",
       "      <td>1331</td>\n",
       "      <td>1331</td>\n",
       "      <td>1331</td>\n",
       "      <td>1331</td>\n",
       "      <td>1331</td>\n",
       "      <td>1331</td>\n",
       "    </tr>\n",
       "    <tr>\n",
       "      <th>1</th>\n",
       "      <td>40-49</td>\n",
       "      <td>1</td>\n",
       "      <td>2</td>\n",
       "      <td>2</td>\n",
       "      <td>2</td>\n",
       "      <td>2</td>\n",
       "      <td>2</td>\n",
       "      <td>2</td>\n",
       "      <td>2</td>\n",
       "      <td>2</td>\n",
       "      <td>...</td>\n",
       "      <td>1946</td>\n",
       "      <td>1947</td>\n",
       "      <td>1947</td>\n",
       "      <td>1947</td>\n",
       "      <td>1947</td>\n",
       "      <td>1947</td>\n",
       "      <td>1947</td>\n",
       "      <td>1947</td>\n",
       "      <td>1947</td>\n",
       "      <td>1947</td>\n",
       "    </tr>\n",
       "    <tr>\n",
       "      <th>2</th>\n",
       "      <td>50-59</td>\n",
       "      <td>1</td>\n",
       "      <td>2</td>\n",
       "      <td>2</td>\n",
       "      <td>3</td>\n",
       "      <td>3</td>\n",
       "      <td>5</td>\n",
       "      <td>5</td>\n",
       "      <td>6</td>\n",
       "      <td>8</td>\n",
       "      <td>...</td>\n",
       "      <td>5075</td>\n",
       "      <td>5075</td>\n",
       "      <td>5075</td>\n",
       "      <td>5075</td>\n",
       "      <td>5075</td>\n",
       "      <td>5075</td>\n",
       "      <td>5075</td>\n",
       "      <td>5075</td>\n",
       "      <td>5075</td>\n",
       "      <td>5075</td>\n",
       "    </tr>\n",
       "    <tr>\n",
       "      <th>3</th>\n",
       "      <td>60-69</td>\n",
       "      <td>9</td>\n",
       "      <td>10</td>\n",
       "      <td>12</td>\n",
       "      <td>12</td>\n",
       "      <td>12</td>\n",
       "      <td>12</td>\n",
       "      <td>12</td>\n",
       "      <td>14</td>\n",
       "      <td>16</td>\n",
       "      <td>...</td>\n",
       "      <td>9670</td>\n",
       "      <td>9672</td>\n",
       "      <td>9672</td>\n",
       "      <td>9672</td>\n",
       "      <td>9672</td>\n",
       "      <td>9672</td>\n",
       "      <td>9672</td>\n",
       "      <td>9672</td>\n",
       "      <td>9672</td>\n",
       "      <td>9672</td>\n",
       "    </tr>\n",
       "    <tr>\n",
       "      <th>4</th>\n",
       "      <td>70-79</td>\n",
       "      <td>21</td>\n",
       "      <td>22</td>\n",
       "      <td>24</td>\n",
       "      <td>28</td>\n",
       "      <td>29</td>\n",
       "      <td>30</td>\n",
       "      <td>31</td>\n",
       "      <td>32</td>\n",
       "      <td>36</td>\n",
       "      <td>...</td>\n",
       "      <td>13955</td>\n",
       "      <td>13956</td>\n",
       "      <td>13958</td>\n",
       "      <td>13958</td>\n",
       "      <td>13958</td>\n",
       "      <td>13958</td>\n",
       "      <td>13958</td>\n",
       "      <td>13958</td>\n",
       "      <td>13958</td>\n",
       "      <td>13958</td>\n",
       "    </tr>\n",
       "  </tbody>\n",
       "</table>\n",
       "<p>5 rows × 1179 columns</p>\n",
       "</div>"
      ],
      "text/plain": [
       "  Grupo de edad  2020-04-09  2020-04-10  2020-04-11  2020-04-12  2020-04-13  \\\n",
       "0          <=39           2           2           3           3           3   \n",
       "1         40-49           1           2           2           2           2   \n",
       "2         50-59           1           2           2           3           3   \n",
       "3         60-69           9          10          12          12          12   \n",
       "4         70-79          21          22          24          28          29   \n",
       "\n",
       "   2020-04-14  2020-04-15  2020-04-16  2020-04-17  ...  2023-06-21  \\\n",
       "0           3           3           3           4  ...        1331   \n",
       "1           2           2           2           2  ...        1946   \n",
       "2           5           5           6           8  ...        5075   \n",
       "3          12          12          14          16  ...        9670   \n",
       "4          30          31          32          36  ...       13955   \n",
       "\n",
       "   2023-06-22  2023-06-23  2023-06-24  2023-06-25  2023-06-26  2023-06-27  \\\n",
       "0        1331        1331        1331        1331        1331        1331   \n",
       "1        1947        1947        1947        1947        1947        1947   \n",
       "2        5075        5075        5075        5075        5075        5075   \n",
       "3        9672        9672        9672        9672        9672        9672   \n",
       "4       13956       13958       13958       13958       13958       13958   \n",
       "\n",
       "   2023-06-28  2023-06-29  2023-06-30  \n",
       "0        1331        1331        1331  \n",
       "1        1947        1947        1947  \n",
       "2        5075        5075        5075  \n",
       "3        9672        9672        9672  \n",
       "4       13958       13958       13958  \n",
       "\n",
       "[5 rows x 1179 columns]"
      ]
     },
     "execution_count": 9,
     "metadata": {},
     "output_type": "execute_result"
    }
   ],
   "source": [
    "valores_faltantes = df.isnull().sum()\n",
    "valores_faltantes\n",
    "df_limpio = df.dropna()\n",
    "df_limpio.head()"
   ]
  },
  {
   "attachments": {},
   "cell_type": "markdown",
   "metadata": {},
   "source": [
    "Ejercicio 4: Convertir tipos de datos"
   ]
  },
  {
   "cell_type": "code",
   "execution_count": 16,
   "metadata": {},
   "outputs": [
    {
     "data": {
      "text/html": [
       "<div>\n",
       "<style scoped>\n",
       "    .dataframe tbody tr th:only-of-type {\n",
       "        vertical-align: middle;\n",
       "    }\n",
       "\n",
       "    .dataframe tbody tr th {\n",
       "        vertical-align: top;\n",
       "    }\n",
       "\n",
       "    .dataframe thead th {\n",
       "        text-align: right;\n",
       "    }\n",
       "</style>\n",
       "<table border=\"1\" class=\"dataframe\">\n",
       "  <thead>\n",
       "    <tr style=\"text-align: right;\">\n",
       "      <th></th>\n",
       "      <th>Grupo de edad</th>\n",
       "      <th>2020-04-09</th>\n",
       "      <th>2020-04-10</th>\n",
       "      <th>2020-04-11</th>\n",
       "      <th>2020-04-12</th>\n",
       "      <th>2020-04-13</th>\n",
       "      <th>2020-04-14</th>\n",
       "      <th>2020-04-15</th>\n",
       "      <th>2020-04-16</th>\n",
       "      <th>2020-04-17</th>\n",
       "      <th>...</th>\n",
       "      <th>2023-06-21</th>\n",
       "      <th>2023-06-22</th>\n",
       "      <th>2023-06-23</th>\n",
       "      <th>2023-06-24</th>\n",
       "      <th>2023-06-25</th>\n",
       "      <th>2023-06-26</th>\n",
       "      <th>2023-06-27</th>\n",
       "      <th>2023-06-28</th>\n",
       "      <th>2023-06-29</th>\n",
       "      <th>2023-06-30</th>\n",
       "    </tr>\n",
       "  </thead>\n",
       "  <tbody>\n",
       "    <tr>\n",
       "      <th>0</th>\n",
       "      <td>&lt;=39</td>\n",
       "      <td>1970-01-01 00:00:00.000000002</td>\n",
       "      <td>2</td>\n",
       "      <td>3</td>\n",
       "      <td>3</td>\n",
       "      <td>3</td>\n",
       "      <td>3</td>\n",
       "      <td>3</td>\n",
       "      <td>3</td>\n",
       "      <td>4</td>\n",
       "      <td>...</td>\n",
       "      <td>1331</td>\n",
       "      <td>1331</td>\n",
       "      <td>1331</td>\n",
       "      <td>1331</td>\n",
       "      <td>1331</td>\n",
       "      <td>1331</td>\n",
       "      <td>1331</td>\n",
       "      <td>1331</td>\n",
       "      <td>1331</td>\n",
       "      <td>1331</td>\n",
       "    </tr>\n",
       "    <tr>\n",
       "      <th>1</th>\n",
       "      <td>40-49</td>\n",
       "      <td>1970-01-01 00:00:00.000000001</td>\n",
       "      <td>2</td>\n",
       "      <td>2</td>\n",
       "      <td>2</td>\n",
       "      <td>2</td>\n",
       "      <td>2</td>\n",
       "      <td>2</td>\n",
       "      <td>2</td>\n",
       "      <td>2</td>\n",
       "      <td>...</td>\n",
       "      <td>1946</td>\n",
       "      <td>1947</td>\n",
       "      <td>1947</td>\n",
       "      <td>1947</td>\n",
       "      <td>1947</td>\n",
       "      <td>1947</td>\n",
       "      <td>1947</td>\n",
       "      <td>1947</td>\n",
       "      <td>1947</td>\n",
       "      <td>1947</td>\n",
       "    </tr>\n",
       "    <tr>\n",
       "      <th>2</th>\n",
       "      <td>50-59</td>\n",
       "      <td>1970-01-01 00:00:00.000000001</td>\n",
       "      <td>2</td>\n",
       "      <td>2</td>\n",
       "      <td>3</td>\n",
       "      <td>3</td>\n",
       "      <td>5</td>\n",
       "      <td>5</td>\n",
       "      <td>6</td>\n",
       "      <td>8</td>\n",
       "      <td>...</td>\n",
       "      <td>5075</td>\n",
       "      <td>5075</td>\n",
       "      <td>5075</td>\n",
       "      <td>5075</td>\n",
       "      <td>5075</td>\n",
       "      <td>5075</td>\n",
       "      <td>5075</td>\n",
       "      <td>5075</td>\n",
       "      <td>5075</td>\n",
       "      <td>5075</td>\n",
       "    </tr>\n",
       "    <tr>\n",
       "      <th>3</th>\n",
       "      <td>60-69</td>\n",
       "      <td>1970-01-01 00:00:00.000000009</td>\n",
       "      <td>10</td>\n",
       "      <td>12</td>\n",
       "      <td>12</td>\n",
       "      <td>12</td>\n",
       "      <td>12</td>\n",
       "      <td>12</td>\n",
       "      <td>14</td>\n",
       "      <td>16</td>\n",
       "      <td>...</td>\n",
       "      <td>9670</td>\n",
       "      <td>9672</td>\n",
       "      <td>9672</td>\n",
       "      <td>9672</td>\n",
       "      <td>9672</td>\n",
       "      <td>9672</td>\n",
       "      <td>9672</td>\n",
       "      <td>9672</td>\n",
       "      <td>9672</td>\n",
       "      <td>9672</td>\n",
       "    </tr>\n",
       "    <tr>\n",
       "      <th>4</th>\n",
       "      <td>70-79</td>\n",
       "      <td>1970-01-01 00:00:00.000000021</td>\n",
       "      <td>22</td>\n",
       "      <td>24</td>\n",
       "      <td>28</td>\n",
       "      <td>29</td>\n",
       "      <td>30</td>\n",
       "      <td>31</td>\n",
       "      <td>32</td>\n",
       "      <td>36</td>\n",
       "      <td>...</td>\n",
       "      <td>13955</td>\n",
       "      <td>13956</td>\n",
       "      <td>13958</td>\n",
       "      <td>13958</td>\n",
       "      <td>13958</td>\n",
       "      <td>13958</td>\n",
       "      <td>13958</td>\n",
       "      <td>13958</td>\n",
       "      <td>13958</td>\n",
       "      <td>13958</td>\n",
       "    </tr>\n",
       "    <tr>\n",
       "      <th>5</th>\n",
       "      <td>80-89</td>\n",
       "      <td>1970-01-01 00:00:00.000000019</td>\n",
       "      <td>21</td>\n",
       "      <td>24</td>\n",
       "      <td>25</td>\n",
       "      <td>26</td>\n",
       "      <td>32</td>\n",
       "      <td>33</td>\n",
       "      <td>38</td>\n",
       "      <td>40</td>\n",
       "      <td>...</td>\n",
       "      <td>14279</td>\n",
       "      <td>14279</td>\n",
       "      <td>14279</td>\n",
       "      <td>14281</td>\n",
       "      <td>14281</td>\n",
       "      <td>14281</td>\n",
       "      <td>14283</td>\n",
       "      <td>14283</td>\n",
       "      <td>14283</td>\n",
       "      <td>14284</td>\n",
       "    </tr>\n",
       "    <tr>\n",
       "      <th>6</th>\n",
       "      <td>&gt;=90</td>\n",
       "      <td>1970-01-01 00:00:00.000000004</td>\n",
       "      <td>6</td>\n",
       "      <td>6</td>\n",
       "      <td>7</td>\n",
       "      <td>7</td>\n",
       "      <td>8</td>\n",
       "      <td>8</td>\n",
       "      <td>10</td>\n",
       "      <td>10</td>\n",
       "      <td>...</td>\n",
       "      <td>6406</td>\n",
       "      <td>6406</td>\n",
       "      <td>6406</td>\n",
       "      <td>6406</td>\n",
       "      <td>6406</td>\n",
       "      <td>6406</td>\n",
       "      <td>6405</td>\n",
       "      <td>6406</td>\n",
       "      <td>6406</td>\n",
       "      <td>6406</td>\n",
       "    </tr>\n",
       "  </tbody>\n",
       "</table>\n",
       "<p>7 rows × 1179 columns</p>\n",
       "</div>"
      ],
      "text/plain": [
       "  Grupo de edad                    2020-04-09  2020-04-10  2020-04-11  \\\n",
       "0          <=39 1970-01-01 00:00:00.000000002           2           3   \n",
       "1         40-49 1970-01-01 00:00:00.000000001           2           2   \n",
       "2         50-59 1970-01-01 00:00:00.000000001           2           2   \n",
       "3         60-69 1970-01-01 00:00:00.000000009          10          12   \n",
       "4         70-79 1970-01-01 00:00:00.000000021          22          24   \n",
       "5         80-89 1970-01-01 00:00:00.000000019          21          24   \n",
       "6          >=90 1970-01-01 00:00:00.000000004           6           6   \n",
       "\n",
       "   2020-04-12  2020-04-13  2020-04-14  2020-04-15  2020-04-16  2020-04-17  \\\n",
       "0           3           3           3           3           3           4   \n",
       "1           2           2           2           2           2           2   \n",
       "2           3           3           5           5           6           8   \n",
       "3          12          12          12          12          14          16   \n",
       "4          28          29          30          31          32          36   \n",
       "5          25          26          32          33          38          40   \n",
       "6           7           7           8           8          10          10   \n",
       "\n",
       "   ...  2023-06-21  2023-06-22  2023-06-23  2023-06-24  2023-06-25  \\\n",
       "0  ...        1331        1331        1331        1331        1331   \n",
       "1  ...        1946        1947        1947        1947        1947   \n",
       "2  ...        5075        5075        5075        5075        5075   \n",
       "3  ...        9670        9672        9672        9672        9672   \n",
       "4  ...       13955       13956       13958       13958       13958   \n",
       "5  ...       14279       14279       14279       14281       14281   \n",
       "6  ...        6406        6406        6406        6406        6406   \n",
       "\n",
       "   2023-06-26  2023-06-27  2023-06-28  2023-06-29  2023-06-30  \n",
       "0        1331        1331        1331        1331        1331  \n",
       "1        1947        1947        1947        1947        1947  \n",
       "2        5075        5075        5075        5075        5075  \n",
       "3        9672        9672        9672        9672        9672  \n",
       "4       13958       13958       13958       13958       13958  \n",
       "5       14281       14283       14283       14283       14284  \n",
       "6        6406        6405        6406        6406        6406  \n",
       "\n",
       "[7 rows x 1179 columns]"
      ]
     },
     "execution_count": 16,
     "metadata": {},
     "output_type": "execute_result"
    }
   ],
   "source": [
    "df_limpio['2020-04-09'] = pd.to_datetime(df_limpio['2020-04-09'])\n",
    "df_limpio"
   ]
  },
  {
   "attachments": {},
   "cell_type": "markdown",
   "metadata": {},
   "source": [
    "Ejercicio 5: Calcular estadísticas básicas"
   ]
  },
  {
   "cell_type": "code",
   "execution_count": 18,
   "metadata": {},
   "outputs": [
    {
     "data": {
      "text/plain": [
       "9.285714285714286"
      ]
     },
     "execution_count": 18,
     "metadata": {},
     "output_type": "execute_result"
    }
   ],
   "source": [
    "valor_medio = df_limpio['2020-04-10'].mean()\n",
    "valor_medio"
   ]
  },
  {
   "attachments": {},
   "cell_type": "markdown",
   "metadata": {},
   "source": [
    "Ejercicio 6: Crear un histograma"
   ]
  },
  {
   "cell_type": "code",
   "execution_count": 20,
   "metadata": {},
   "outputs": [
    {
     "data": {
      "image/png": "[encoded data removed]",
      "text/plain": [
       "<Figure size 432x288 with 1 Axes>"
      ]
     },
     "metadata": {
      "needs_background": "light"
     },
     "output_type": "display_data"
    }
   ],
   "source": [
    "plt.hist(df_limpio['2020-04-10'])\n",
    "plt.show()"
   ]
  },
  {
   "attachments": {},
   "cell_type": "markdown",
   "metadata": {},
   "source": [
    "Ejercicio 7: Calcular correlaciones"
   ]
  },
  {
   "cell_type": "code",
   "execution_count": 22,
   "metadata": {},
   "outputs": [
    {
     "data": {
      "text/plain": [
       "0.9978879734236782"
      ]
     },
     "execution_count": 22,
     "metadata": {},
     "output_type": "execute_result"
    }
   ],
   "source": [
    "correlacion = df_limpio['2020-04-10'].corr(df_limpio['2020-04-11'])\n",
    "correlacion"
   ]
  },
  {
   "attachments": {},
   "cell_type": "markdown",
   "metadata": {},
   "source": [
    "Ejercicio 8: Dibujar datos de series temporales"
   ]
  },
  {
   "cell_type": "code",
   "execution_count": 24,
   "metadata": {},
   "outputs": [
    {
     "data": {
      "image/png": "[encoded data removed]",
      "text/plain": [
       "<Figure size 432x288 with 1 Axes>"
      ]
     },
     "metadata": {
      "needs_background": "light"
     },
     "output_type": "display_data"
    }
   ],
   "source": [
    "df_limpio.plot(x='2020-04-10', y='2020-04-11')\n",
    "plt.show()"
   ]
  },
  {
   "attachments": {},
   "cell_type": "markdown",
   "metadata": {},
   "source": [
    "Ejercicio 9: Descomponer la serie temporal"
   ]
  },
  {
   "cell_type": "code",
   "execution_count": 27,
   "metadata": {},
   "outputs": [
    {
     "data": {
      "image/png": "[encoded data removed]",
      "text/plain": [
       "<Figure size 432x288 with 4 Axes>"
      ]
     },
     "metadata": {
      "needs_background": "light"
     },
     "output_type": "display_data"
    }
   ],
   "source": [
    "descomposicion = seasonal_decompose(df_limpio['2020-04-10'], model='additive', period=1)\n",
    "descomposicion.plot()\n",
    "plt.show()"
   ]
  },
  {
   "attachments": {},
   "cell_type": "markdown",
   "metadata": {},
   "source": [
    "Ejercicio 10: Crear modelo ARIMA"
   ]
  },
  {
   "cell_type": "code",
   "execution_count": 39,
   "metadata": {},
   "outputs": [],
   "source": [
    "df['2020-04-10'] = df['2020-04-10'].astype('float64')\n"
   ]
  },
  {
   "cell_type": "code",
   "execution_count": 48,
   "metadata": {},
   "outputs": [
    {
     "name": "stderr",
     "output_type": "stream",
     "text": [
      "/Users/eduardogodoy/opt/anaconda3/lib/python3.7/site-packages/statsmodels/tsa/statespace/sarimax.py:963: UserWarning: Non-stationary starting autoregressive parameters found. Using zeros as starting parameters.\n",
      "  warn('Non-stationary starting autoregressive parameters'\n",
      "/Users/eduardogodoy/opt/anaconda3/lib/python3.7/site-packages/statsmodels/tsa/statespace/sarimax.py:975: UserWarning: Non-invertible starting MA parameters found. Using zeros as starting parameters.\n",
      "  warn('Non-invertible starting MA parameters found.'\n"
     ]
    },
    {
     "data": {
      "text/html": [
       "<table class=\"simpletable\">\n",
       "<caption>SARIMAX Results</caption>\n",
       "<tr>\n",
       "  <th>Dep. Variable:</th>      <td>2020-04-10</td>    <th>  No. Observations:  </th>    <td>7</td>   \n",
       "</tr>\n",
       "<tr>\n",
       "  <th>Model:</th>            <td>ARIMA(1, 1, 1)</td>  <th>  Log Likelihood     </th> <td>-19.716</td>\n",
       "</tr>\n",
       "<tr>\n",
       "  <th>Date:</th>            <td>Mon, 10 Jul 2023</td> <th>  AIC                </th> <td>45.432</td> \n",
       "</tr>\n",
       "<tr>\n",
       "  <th>Time:</th>                <td>18:54:18</td>     <th>  BIC                </th> <td>44.807</td> \n",
       "</tr>\n",
       "<tr>\n",
       "  <th>Sample:</th>                  <td>0</td>        <th>  HQIC               </th> <td>42.931</td> \n",
       "</tr>\n",
       "<tr>\n",
       "  <th></th>                       <td> - 7</td>       <th>                     </th>    <td> </td>   \n",
       "</tr>\n",
       "<tr>\n",
       "  <th>Covariance Type:</th>        <td>opg</td>       <th>                     </th>    <td> </td>   \n",
       "</tr>\n",
       "</table>\n",
       "<table class=\"simpletable\">\n",
       "<tr>\n",
       "     <td></td>       <th>coef</th>     <th>std err</th>      <th>z</th>      <th>P>|z|</th>  <th>[0.025</th>    <th>0.975]</th>  \n",
       "</tr>\n",
       "<tr>\n",
       "  <th>ar.L1</th>  <td>    0.3197</td> <td>    0.748</td> <td>    0.428</td> <td> 0.669</td> <td>   -1.146</td> <td>    1.786</td>\n",
       "</tr>\n",
       "<tr>\n",
       "  <th>ma.L1</th>  <td>    0.9999</td> <td> 3927.168</td> <td>    0.000</td> <td> 1.000</td> <td>-7696.107</td> <td> 7698.107</td>\n",
       "</tr>\n",
       "<tr>\n",
       "  <th>sigma2</th> <td>   27.4241</td> <td> 1.08e+05</td> <td>    0.000</td> <td> 1.000</td> <td>-2.11e+05</td> <td> 2.11e+05</td>\n",
       "</tr>\n",
       "</table>\n",
       "<table class=\"simpletable\">\n",
       "<tr>\n",
       "  <th>Ljung-Box (Q):</th>               <td>5.06</td>      <th>  Jarque-Bera (JB):  </th> <td>0.44</td> \n",
       "</tr>\n",
       "<tr>\n",
       "  <th>Prob(Q):</th>                     <td>0.41</td>      <th>  Prob(JB):          </th> <td>0.80</td> \n",
       "</tr>\n",
       "<tr>\n",
       "  <th>Heteroskedasticity (H):</th> <td>23274944051.81</td> <th>  Skew:              </th> <td>-0.09</td>\n",
       "</tr>\n",
       "<tr>\n",
       "  <th>Prob(H) (two-sided):</th>         <td>0.00</td>      <th>  Kurtosis:          </th> <td>1.69</td> \n",
       "</tr>\n",
       "</table><br/><br/>Warnings:<br/>[1] Covariance matrix calculated using the outer product of gradients (complex-step)."
      ],
      "text/plain": [
       "<class 'statsmodels.iolib.summary.Summary'>\n",
       "\"\"\"\n",
       "                               SARIMAX Results                                \n",
       "==============================================================================\n",
       "Dep. Variable:             2020-04-10   No. Observations:                    7\n",
       "Model:                 ARIMA(1, 1, 1)   Log Likelihood                 -19.716\n",
       "Date:                Mon, 10 Jul 2023   AIC                             45.432\n",
       "Time:                        18:54:18   BIC                             44.807\n",
       "Sample:                             0   HQIC                            42.931\n",
       "                                  - 7                                         \n",
       "Covariance Type:                  opg                                         \n",
       "==============================================================================\n",
       "                 coef    std err          z      P>|z|      [0.025      0.975]\n",
       "------------------------------------------------------------------------------\n",
       "ar.L1          0.3197      0.748      0.428      0.669      -1.146       1.786\n",
       "ma.L1          0.9999   3927.168      0.000      1.000   -7696.107    7698.107\n",
       "sigma2        27.4241   1.08e+05      0.000      1.000   -2.11e+05    2.11e+05\n",
       "===================================================================================\n",
       "Ljung-Box (Q):                        5.06   Jarque-Bera (JB):                 0.44\n",
       "Prob(Q):                              0.41   Prob(JB):                         0.80\n",
       "Heteroskedasticity (H):     23274944051.81   Skew:                            -0.09\n",
       "Prob(H) (two-sided):                  0.00   Kurtosis:                         1.69\n",
       "===================================================================================\n",
       "\n",
       "Warnings:\n",
       "[1] Covariance matrix calculated using the outer product of gradients (complex-step).\n",
       "\"\"\""
      ]
     },
     "execution_count": 48,
     "metadata": {},
     "output_type": "execute_result"
    }
   ],
   "source": [
    "modelo = ARIMA(df['2020-04-10'], order=(1, 1, 1))\n",
    "modelo_ajustado = modelo.fit()\n",
    "modelo_ajustado.summary()"
   ]
  },
  {
   "attachments": {},
   "cell_type": "markdown",
   "metadata": {},
   "source": [
    "En general, basándonos en los resultados proporcionados, se sugiere que el modelo ARIMA podría no ser el mejor ajuste para los datos. Los coeficientes no son estadísticamente significativos y hay presencia de heterocedasticidad en los residuos. Sería recomendable realizar un análisis más detallado y evaluar otras opciones de modelos para encontrar un mejor ajuste a los datos."
   ]
  },
  {
   "cell_type": "code",
   "execution_count": null,
   "metadata": {},
   "outputs": [],
   "source": []
  }
 ],
 "metadata": {
  "kernelspec": {
   "display_name": "base",
   "language": "python",
   "name": "python3"
  },
  "language_info": {
   "codemirror_mode": {
    "name": "ipython",
    "version": 3
   },
   "file_extension": ".py",
   "mimetype": "text/x-python",
   "name": "python",
   "nbconvert_exporter": "python",
   "pygments_lexer": "ipython3",
   "version": "3.7.6"
  },
  "orig_nbformat": 4
 },
 "nbformat": 4,
 "nbformat_minor": 2
}
